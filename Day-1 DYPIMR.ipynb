{
 "cells": [
  {
   "cell_type": "code",
   "execution_count": 2,
   "id": "bf7892b3",
   "metadata": {},
   "outputs": [
    {
     "name": "stdout",
     "output_type": "stream",
     "text": [
      "Hello World\n"
     ]
    }
   ],
   "source": [
    "print('Hello World')"
   ]
  },
  {
   "cell_type": "code",
   "execution_count": 3,
   "id": "4da33762",
   "metadata": {},
   "outputs": [
    {
     "name": "stdout",
     "output_type": "stream",
     "text": [
      "34\n"
     ]
    }
   ],
   "source": [
    "num = 34\n",
    "print(num)"
   ]
  },
  {
   "cell_type": "code",
   "execution_count": 4,
   "id": "34d8ac87",
   "metadata": {},
   "outputs": [
    {
     "name": "stdout",
     "output_type": "stream",
     "text": [
      "34.35\n"
     ]
    }
   ],
   "source": [
    "num1 = 34.35\n",
    "print(num1)"
   ]
  },
  {
   "cell_type": "code",
   "execution_count": 5,
   "id": "71426eb2",
   "metadata": {},
   "outputs": [
    {
     "name": "stdout",
     "output_type": "stream",
     "text": [
      "<class 'int'>\n",
      "<class 'float'>\n"
     ]
    }
   ],
   "source": [
    "print(type(num))\n",
    "print(type(num1))"
   ]
  },
  {
   "cell_type": "code",
   "execution_count": 6,
   "id": "40ff8c73",
   "metadata": {},
   "outputs": [
    {
     "name": "stdout",
     "output_type": "stream",
     "text": [
      "521481274618527468245246182\n"
     ]
    }
   ],
   "source": [
    "num = 521481274618527468245246182\n",
    "print(num)"
   ]
  },
  {
   "cell_type": "code",
   "execution_count": 7,
   "id": "3d6c308f",
   "metadata": {},
   "outputs": [
    {
     "name": "stdout",
     "output_type": "stream",
     "text": [
      "5463.2538\n"
     ]
    }
   ],
   "source": [
    "num = 5463.2538\n",
    "print(num)"
   ]
  },
  {
   "cell_type": "code",
   "execution_count": 8,
   "id": "eb9bf652",
   "metadata": {},
   "outputs": [],
   "source": [
    "name = 'Tushar'"
   ]
  },
  {
   "cell_type": "code",
   "execution_count": 9,
   "id": "bea401b6",
   "metadata": {},
   "outputs": [
    {
     "name": "stdout",
     "output_type": "stream",
     "text": [
      "Tushar\n",
      "<class 'str'>\n"
     ]
    }
   ],
   "source": [
    "print(name)\n",
    "print(type(name))"
   ]
  },
  {
   "cell_type": "code",
   "execution_count": 10,
   "id": "d79afa08",
   "metadata": {},
   "outputs": [],
   "source": [
    "num, num1, num2 = 45, 88, 34"
   ]
  },
  {
   "cell_type": "code",
   "execution_count": 11,
   "id": "353d8f04",
   "metadata": {},
   "outputs": [
    {
     "name": "stdout",
     "output_type": "stream",
     "text": [
      "45\n"
     ]
    }
   ],
   "source": [
    "print(num)"
   ]
  },
  {
   "cell_type": "code",
   "execution_count": 12,
   "id": "1a5ab9e1",
   "metadata": {},
   "outputs": [
    {
     "name": "stdout",
     "output_type": "stream",
     "text": [
      "88\n"
     ]
    }
   ],
   "source": [
    "print(num1)"
   ]
  },
  {
   "cell_type": "code",
   "execution_count": 13,
   "id": "9f5f5efe",
   "metadata": {},
   "outputs": [],
   "source": [
    "num, num1, num2 = 45, 'hello', 56.89"
   ]
  },
  {
   "cell_type": "code",
   "execution_count": 14,
   "id": "9054329a",
   "metadata": {},
   "outputs": [
    {
     "name": "stdout",
     "output_type": "stream",
     "text": [
      "hello\n"
     ]
    }
   ],
   "source": [
    "print(num1)"
   ]
  },
  {
   "cell_type": "code",
   "execution_count": 15,
   "id": "18600af0",
   "metadata": {},
   "outputs": [],
   "source": [
    "num1 = num2 = num3 = 67"
   ]
  },
  {
   "cell_type": "code",
   "execution_count": 16,
   "id": "9c677d3a",
   "metadata": {},
   "outputs": [
    {
     "name": "stdout",
     "output_type": "stream",
     "text": [
      "67\n"
     ]
    }
   ],
   "source": [
    "print(num1)"
   ]
  },
  {
   "cell_type": "code",
   "execution_count": 17,
   "id": "de24173f",
   "metadata": {},
   "outputs": [
    {
     "name": "stdout",
     "output_type": "stream",
     "text": [
      "Addition is 100\n"
     ]
    }
   ],
   "source": [
    "num1 = 45\n",
    "num2 = 55\n",
    "result = num1 + num2\n",
    "print('Addition is', result)"
   ]
  },
  {
   "cell_type": "code",
   "execution_count": 18,
   "id": "c1667e3c",
   "metadata": {},
   "outputs": [
    {
     "name": "stdout",
     "output_type": "stream",
     "text": [
      "Addition is 100\n"
     ]
    }
   ],
   "source": [
    "num1 = 45; num2 = 55; result = num1 + num2; print('Addition is', result)"
   ]
  },
  {
   "cell_type": "code",
   "execution_count": 19,
   "id": "f05b95d0",
   "metadata": {},
   "outputs": [],
   "source": [
    "name = 'Tushar'"
   ]
  },
  {
   "cell_type": "code",
   "execution_count": 20,
   "id": "addddbc7",
   "metadata": {},
   "outputs": [
    {
     "data": {
      "text/plain": [
       "'Tushar'"
      ]
     },
     "execution_count": 20,
     "metadata": {},
     "output_type": "execute_result"
    }
   ],
   "source": [
    "name"
   ]
  },
  {
   "cell_type": "code",
   "execution_count": 21,
   "id": "0e0ef3e2",
   "metadata": {},
   "outputs": [
    {
     "data": {
      "text/plain": [
       "'TUSHAR'"
      ]
     },
     "execution_count": 21,
     "metadata": {},
     "output_type": "execute_result"
    }
   ],
   "source": [
    "name.upper()"
   ]
  },
  {
   "cell_type": "code",
   "execution_count": 22,
   "id": "bb313b45",
   "metadata": {},
   "outputs": [
    {
     "name": "stdout",
     "output_type": "stream",
     "text": [
      "Help on built-in function replace:\n",
      "\n",
      "replace(old, new, count=-1, /) method of builtins.str instance\n",
      "    Return a copy with all occurrences of substring old replaced by new.\n",
      "    \n",
      "      count\n",
      "        Maximum number of occurrences to replace.\n",
      "        -1 (the default value) means replace all occurrences.\n",
      "    \n",
      "    If the optional argument count is given, only the first count occurrences are\n",
      "    replaced.\n",
      "\n"
     ]
    }
   ],
   "source": [
    "help(name.replace)"
   ]
  },
  {
   "cell_type": "code",
   "execution_count": 23,
   "id": "dae9bf96",
   "metadata": {},
   "outputs": [
    {
     "data": {
      "text/plain": [
       "True"
      ]
     },
     "execution_count": 23,
     "metadata": {},
     "output_type": "execute_result"
    }
   ],
   "source": [
    "name.startswith('T')"
   ]
  },
  {
   "cell_type": "code",
   "execution_count": 24,
   "id": "12c6f71b",
   "metadata": {},
   "outputs": [
    {
     "data": {
      "text/plain": [
       "False"
      ]
     },
     "execution_count": 24,
     "metadata": {},
     "output_type": "execute_result"
    }
   ],
   "source": [
    "name.endswith('x')"
   ]
  },
  {
   "cell_type": "code",
   "execution_count": 25,
   "id": "7bb4a694",
   "metadata": {},
   "outputs": [
    {
     "data": {
      "text/plain": [
       "'Tooshar'"
      ]
     },
     "execution_count": 25,
     "metadata": {},
     "output_type": "execute_result"
    }
   ],
   "source": [
    "name.replace('u','oo')"
   ]
  },
  {
   "cell_type": "code",
   "execution_count": 26,
   "id": "e156c94f",
   "metadata": {},
   "outputs": [
    {
     "data": {
      "text/plain": [
       "'tUSHAR'"
      ]
     },
     "execution_count": 26,
     "metadata": {},
     "output_type": "execute_result"
    }
   ],
   "source": [
    "name.swapcase()"
   ]
  },
  {
   "cell_type": "code",
   "execution_count": 27,
   "id": "e0809115",
   "metadata": {},
   "outputs": [
    {
     "name": "stdout",
     "output_type": "stream",
     "text": [
      "HelloWorld\n"
     ]
    }
   ],
   "source": [
    "print('HelloWorld')"
   ]
  },
  {
   "cell_type": "code",
   "execution_count": 28,
   "id": "e1901fab",
   "metadata": {},
   "outputs": [
    {
     "name": "stdout",
     "output_type": "stream",
     "text": [
      "Hello\n",
      "World\n"
     ]
    }
   ],
   "source": [
    "print('Hello\\nWorld')"
   ]
  },
  {
   "cell_type": "code",
   "execution_count": 29,
   "id": "92c229ae",
   "metadata": {},
   "outputs": [
    {
     "name": "stdout",
     "output_type": "stream",
     "text": [
      "Hello\tWorld\n"
     ]
    }
   ],
   "source": [
    "print('Hello\\tWorld')"
   ]
  },
  {
   "cell_type": "code",
   "execution_count": 30,
   "id": "4a7eb31d",
   "metadata": {},
   "outputs": [
    {
     "name": "stdout",
     "output_type": "stream",
     "text": [
      "Hello\bWorld\n"
     ]
    }
   ],
   "source": [
    "print('Hello\\bWorld')"
   ]
  },
  {
   "cell_type": "code",
   "execution_count": 31,
   "id": "d81d6e43",
   "metadata": {},
   "outputs": [],
   "source": [
    "name = 'Tushar'\n",
    "marks = 67.89"
   ]
  },
  {
   "cell_type": "code",
   "execution_count": 32,
   "id": "f1a1d160",
   "metadata": {},
   "outputs": [
    {
     "name": "stdout",
     "output_type": "stream",
     "text": [
      "My name is Tushar and marks are 67.89\n"
     ]
    }
   ],
   "source": [
    "print('My name is',name,'and marks are',marks)"
   ]
  },
  {
   "cell_type": "code",
   "execution_count": 33,
   "id": "2d411eba",
   "metadata": {},
   "outputs": [
    {
     "name": "stdout",
     "output_type": "stream",
     "text": [
      "My name is Tushar and marks are 67.890000\n"
     ]
    }
   ],
   "source": [
    "print('My name is %s and marks are %f' %(name,marks))"
   ]
  },
  {
   "cell_type": "code",
   "execution_count": 34,
   "id": "15e60e6d",
   "metadata": {},
   "outputs": [
    {
     "name": "stdout",
     "output_type": "stream",
     "text": [
      "My name is Tushar and marks are 67\n"
     ]
    }
   ],
   "source": [
    "print('My name is %s and marks are %i' %(name,marks))"
   ]
  },
  {
   "cell_type": "code",
   "execution_count": 35,
   "id": "dc074420",
   "metadata": {},
   "outputs": [
    {
     "name": "stdout",
     "output_type": "stream",
     "text": [
      "My name is Tushar and marks are 67.9\n"
     ]
    }
   ],
   "source": [
    "print('My name is %s and marks are %.1f' %(name,marks))"
   ]
  },
  {
   "cell_type": "code",
   "execution_count": 37,
   "id": "5023ffbb",
   "metadata": {},
   "outputs": [
    {
     "name": "stdout",
     "output_type": "stream",
     "text": [
      "Tushar 67.89\n"
     ]
    }
   ],
   "source": [
    "# This is simple statement\n",
    "print(name, marks)"
   ]
  },
  {
   "cell_type": "code",
   "execution_count": 38,
   "id": "8bb41655",
   "metadata": {},
   "outputs": [],
   "source": [
    "mydata = '''Hi friends\n",
    "How are you?\n",
    "Welcome to Pytho Programming'''"
   ]
  },
  {
   "cell_type": "code",
   "execution_count": 39,
   "id": "ca8b2f68",
   "metadata": {},
   "outputs": [
    {
     "name": "stdout",
     "output_type": "stream",
     "text": [
      "Hi friends\n",
      "How are you?\n",
      "Welcome to Pytho Programming\n"
     ]
    }
   ],
   "source": [
    "print(mydata)"
   ]
  },
  {
   "cell_type": "code",
   "execution_count": 40,
   "id": "0796a446",
   "metadata": {},
   "outputs": [
    {
     "name": "stdout",
     "output_type": "stream",
     "text": [
      "Addition is 100\n"
     ]
    }
   ],
   "source": [
    "'''My first program\n",
    "Date: 7.9.2023'''\n",
    "\n",
    "num1 = 45\n",
    "num2 = 55\n",
    "result = num1 + num2\n",
    "print('Addition is', result)"
   ]
  },
  {
   "cell_type": "markdown",
   "id": "c3fad7ef",
   "metadata": {},
   "source": [
    "#### Arithmetic Operators"
   ]
  },
  {
   "cell_type": "code",
   "execution_count": 42,
   "id": "ab566691",
   "metadata": {},
   "outputs": [],
   "source": [
    "num1 = 45\n",
    "num2 = 16"
   ]
  },
  {
   "cell_type": "code",
   "execution_count": 43,
   "id": "3b21d220",
   "metadata": {},
   "outputs": [
    {
     "name": "stdout",
     "output_type": "stream",
     "text": [
      "61\n"
     ]
    }
   ],
   "source": [
    "result = num1 + num2\n",
    "print(result)"
   ]
  },
  {
   "cell_type": "code",
   "execution_count": 44,
   "id": "406d42ec",
   "metadata": {},
   "outputs": [
    {
     "data": {
      "text/plain": [
       "29"
      ]
     },
     "execution_count": 44,
     "metadata": {},
     "output_type": "execute_result"
    }
   ],
   "source": [
    "num1 - num2"
   ]
  },
  {
   "cell_type": "code",
   "execution_count": 46,
   "id": "36b686be",
   "metadata": {},
   "outputs": [
    {
     "data": {
      "text/plain": [
       "720"
      ]
     },
     "execution_count": 46,
     "metadata": {},
     "output_type": "execute_result"
    }
   ],
   "source": [
    "num1 * num2"
   ]
  },
  {
   "cell_type": "code",
   "execution_count": 47,
   "id": "31b6a51b",
   "metadata": {},
   "outputs": [
    {
     "data": {
      "text/plain": [
       "2.8125"
      ]
     },
     "execution_count": 47,
     "metadata": {},
     "output_type": "execute_result"
    }
   ],
   "source": [
    "num1 / num2"
   ]
  },
  {
   "cell_type": "code",
   "execution_count": 48,
   "id": "5753aac9",
   "metadata": {},
   "outputs": [
    {
     "data": {
      "text/plain": [
       "2"
      ]
     },
     "execution_count": 48,
     "metadata": {},
     "output_type": "execute_result"
    }
   ],
   "source": [
    "# quotient\n",
    "num1 // num2"
   ]
  },
  {
   "cell_type": "code",
   "execution_count": 49,
   "id": "9bd42dbd",
   "metadata": {},
   "outputs": [
    {
     "data": {
      "text/plain": [
       "13"
      ]
     },
     "execution_count": 49,
     "metadata": {},
     "output_type": "execute_result"
    }
   ],
   "source": [
    "# remainder\n",
    "num1 % num2"
   ]
  },
  {
   "cell_type": "code",
   "execution_count": 50,
   "id": "e54d1db6",
   "metadata": {},
   "outputs": [
    {
     "data": {
      "text/plain": [
       "282748441902441558837890625"
      ]
     },
     "execution_count": 50,
     "metadata": {},
     "output_type": "execute_result"
    }
   ],
   "source": [
    "# raised to\n",
    "num1 ** num2"
   ]
  },
  {
   "cell_type": "markdown",
   "id": "221a8233",
   "metadata": {},
   "source": [
    "#### Relational Operators"
   ]
  },
  {
   "cell_type": "code",
   "execution_count": 52,
   "id": "4b519a49",
   "metadata": {},
   "outputs": [
    {
     "name": "stdout",
     "output_type": "stream",
     "text": [
      "True\n",
      "True\n",
      "False\n",
      "False\n",
      "False\n",
      "True\n"
     ]
    }
   ],
   "source": [
    "print(num1 > num2)\n",
    "print(num1 >= num2)\n",
    "print(num1 < num2)\n",
    "print(num1 <= num2)\n",
    "print(num1 == num2)\n",
    "print(num1 != num2)"
   ]
  },
  {
   "cell_type": "code",
   "execution_count": 54,
   "id": "57bdbc31",
   "metadata": {},
   "outputs": [
    {
     "name": "stdout",
     "output_type": "stream",
     "text": [
      "Enter first number: 56\n",
      "Enter second number: 44\n",
      "Addition is: 100\n"
     ]
    }
   ],
   "source": [
    "num1 = int(input('Enter first number: '))\n",
    "num2 = int(input('Enter second number: '))\n",
    "add = num1 + num2\n",
    "print('Addition is:', add)"
   ]
  },
  {
   "cell_type": "code",
   "execution_count": 55,
   "id": "327eefb1",
   "metadata": {},
   "outputs": [
    {
     "name": "stdout",
     "output_type": "stream",
     "text": [
      "Enter first number: 21\n",
      "Enter second number: 79\n",
      "Addition is: 100\n"
     ]
    }
   ],
   "source": [
    "num1 = input('Enter first number: ')\n",
    "num2 = input('Enter second number: ')\n",
    "add = int(num1) + int(num2)\n",
    "print('Addition is:', add)"
   ]
  },
  {
   "cell_type": "code",
   "execution_count": null,
   "id": "66ceb1e8",
   "metadata": {},
   "outputs": [],
   "source": []
  }
 ],
 "metadata": {
  "kernelspec": {
   "display_name": "Python 3",
   "language": "python",
   "name": "python3"
  },
  "language_info": {
   "codemirror_mode": {
    "name": "ipython",
    "version": 3
   },
   "file_extension": ".py",
   "mimetype": "text/x-python",
   "name": "python",
   "nbconvert_exporter": "python",
   "pygments_lexer": "ipython3",
   "version": "3.8.10"
  }
 },
 "nbformat": 4,
 "nbformat_minor": 5
}
