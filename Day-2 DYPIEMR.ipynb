{
 "cells": [
  {
   "cell_type": "markdown",
   "id": "0716f967",
   "metadata": {},
   "source": [
    "#### Check the number is positive or negative"
   ]
  },
  {
   "cell_type": "code",
   "execution_count": 7,
   "id": "de6e9959",
   "metadata": {},
   "outputs": [
    {
     "name": "stdout",
     "output_type": "stream",
     "text": [
      "Enter a number: 0\n",
      "Negative Number\n"
     ]
    }
   ],
   "source": [
    "num = int(input('Enter a number: '))\n",
    "\n",
    "if num > 0:\n",
    "    print('Positive Number')\n",
    "else:\n",
    "    print('Negative Number')"
   ]
  },
  {
   "cell_type": "code",
   "execution_count": 8,
   "id": "c92f4e27",
   "metadata": {},
   "outputs": [
    {
     "name": "stdout",
     "output_type": "stream",
     "text": [
      "Enter a number: 0\n",
      "ZERO!\n"
     ]
    }
   ],
   "source": [
    "num = int(input('Enter a number: '))\n",
    "\n",
    "if num > 0: #compulsory, condition, non-repeatable\n",
    "    print('Positive Number')\n",
    "elif num == 0: #optional, condition, repeatable\n",
    "    print('ZERO!')\n",
    "else: # optional, no-condition, non-repeatable\n",
    "    print('Negative Number')"
   ]
  },
  {
   "cell_type": "markdown",
   "id": "088b2caf",
   "metadata": {},
   "source": [
    "#### Check the number is odd or even"
   ]
  },
  {
   "cell_type": "code",
   "execution_count": 11,
   "id": "7bd513c4",
   "metadata": {},
   "outputs": [
    {
     "name": "stdout",
     "output_type": "stream",
     "text": [
      "Enter a number: 8\n",
      "Even Number\n"
     ]
    }
   ],
   "source": [
    "num = int(input('Enter a number: '))\n",
    "\n",
    "if num % 2 == 0:\n",
    "    print('Even Number')\n",
    "else:\n",
    "    print('Odd Number')"
   ]
  },
  {
   "cell_type": "markdown",
   "id": "32cdcbd6",
   "metadata": {},
   "source": [
    "#### Check the year is leap or not?"
   ]
  },
  {
   "cell_type": "code",
   "execution_count": 13,
   "id": "e11e67a7",
   "metadata": {},
   "outputs": [
    {
     "name": "stdout",
     "output_type": "stream",
     "text": [
      "Enter year: 2000\n",
      "Leap year\n"
     ]
    }
   ],
   "source": [
    "year = int(input('Enter year: '))\n",
    "\n",
    "if year % 4 == 0:\n",
    "    if year % 100 == 0:\n",
    "        if year % 400 == 0:\n",
    "            print('Leap year')  # 2000\n",
    "        else:\n",
    "            print('Not leap year')  # 1900\n",
    "    else:\n",
    "        print('Leap year')   # 2020\n",
    "else:\n",
    "    print('Not leap year')    # 2023"
   ]
  },
  {
   "cell_type": "markdown",
   "id": "af4ebeba",
   "metadata": {},
   "source": [
    "#### Repeatable elif"
   ]
  },
  {
   "cell_type": "code",
   "execution_count": 15,
   "id": "6c9c1212",
   "metadata": {},
   "outputs": [
    {
     "name": "stdout",
     "output_type": "stream",
     "text": [
      "Enter the marks: 56\n",
      "Second class\n"
     ]
    }
   ],
   "source": [
    "marks = float(input('Enter the marks: '))\n",
    "if marks >= 75:\n",
    "    print('Distinction!')  \n",
    "elif marks >= 60:\n",
    "    print('First class')\n",
    "elif marks >= 50:\n",
    "    print('Second class')    \n",
    "elif marks >= 40:\n",
    "    print('Pass class')\n",
    "else:\n",
    "    print('FAILED!')"
   ]
  },
  {
   "cell_type": "markdown",
   "id": "f99ceebf",
   "metadata": {},
   "source": [
    "#### while loop"
   ]
  },
  {
   "cell_type": "code",
   "execution_count": 17,
   "id": "ae4200c9",
   "metadata": {},
   "outputs": [
    {
     "name": "stdout",
     "output_type": "stream",
     "text": [
      "Tushar\n",
      "Tushar\n",
      "Tushar\n",
      "Tushar\n",
      "Tushar\n",
      "Tushar\n",
      "Tushar\n",
      "Tushar\n",
      "Tushar\n",
      "Tushar\n"
     ]
    }
   ],
   "source": [
    "count = 0\n",
    "while count < 10:\n",
    "    print('Tushar')\n",
    "    count = count + 1   # count += 1"
   ]
  },
  {
   "cell_type": "code",
   "execution_count": 20,
   "id": "3432fc64",
   "metadata": {},
   "outputs": [
    {
     "name": "stdout",
     "output_type": "stream",
     "text": [
      "Addition is 55\n"
     ]
    }
   ],
   "source": [
    "add = 0\n",
    "num = 1\n",
    "while num <= 10:\n",
    "    add = add + num\n",
    "    num += 1\n",
    "else:\n",
    "    print('Addition is',add)"
   ]
  },
  {
   "cell_type": "code",
   "execution_count": 21,
   "id": "0b9af110",
   "metadata": {},
   "outputs": [
    {
     "name": "stdout",
     "output_type": "stream",
     "text": [
      "Addition is 100\n"
     ]
    }
   ],
   "source": [
    "add = 0\n",
    "num = 1\n",
    "while num <= 20:\n",
    "    add = add + num\n",
    "    num += 2\n",
    "else:\n",
    "    print('Addition is',add)"
   ]
  },
  {
   "cell_type": "markdown",
   "id": "88722a53",
   "metadata": {},
   "source": [
    "#### for loop"
   ]
  },
  {
   "cell_type": "code",
   "execution_count": 23,
   "id": "117818a5",
   "metadata": {},
   "outputs": [
    {
     "name": "stdout",
     "output_type": "stream",
     "text": [
      "34\n",
      "12\n",
      "45\n",
      "55\n",
      "26\n"
     ]
    }
   ],
   "source": [
    "for n in 34, 12, 45, 55, 26:\n",
    "    print(n)"
   ]
  },
  {
   "cell_type": "code",
   "execution_count": 24,
   "id": "1a6c6d99",
   "metadata": {},
   "outputs": [
    {
     "name": "stdout",
     "output_type": "stream",
     "text": [
      "1156\n",
      "144\n",
      "2025\n",
      "3025\n",
      "676\n"
     ]
    }
   ],
   "source": [
    "for n in 34, 12, 45, 55, 26:\n",
    "    print(n * n)"
   ]
  },
  {
   "cell_type": "code",
   "execution_count": 26,
   "id": "e2993959",
   "metadata": {},
   "outputs": [
    {
     "name": "stdout",
     "output_type": "stream",
     "text": [
      "34\n",
      "12.23\n",
      "Hello\n",
      "55\n",
      "True\n"
     ]
    }
   ],
   "source": [
    "for x in 34, 12.23, 'Hello', 55, True:\n",
    "    print(x)"
   ]
  },
  {
   "cell_type": "code",
   "execution_count": 27,
   "id": "ea5166ab",
   "metadata": {},
   "outputs": [
    {
     "name": "stdout",
     "output_type": "stream",
     "text": [
      "TTTTTTTTTTTTTTTTTTTTTTTTT\n",
      "uuuuuuuuuuuuuuuuuuuuuuuuu\n",
      "sssssssssssssssssssssssss\n",
      "hhhhhhhhhhhhhhhhhhhhhhhhh\n",
      "aaaaaaaaaaaaaaaaaaaaaaaaa\n",
      "rrrrrrrrrrrrrrrrrrrrrrrrr\n"
     ]
    }
   ],
   "source": [
    "for c in 'Tushar':\n",
    "    print(c*25)"
   ]
  },
  {
   "cell_type": "code",
   "execution_count": 28,
   "id": "41397d62",
   "metadata": {},
   "outputs": [
    {
     "name": "stdout",
     "output_type": "stream",
     "text": [
      "16\n",
      "36\n",
      "25\n",
      "9\n",
      "4\n",
      "1\n",
      "25\n",
      "36\n"
     ]
    }
   ],
   "source": [
    "num = [4,6,5,3,2,1,5,6]\n",
    "for n in num:\n",
    "    print(n ** 2)"
   ]
  },
  {
   "cell_type": "code",
   "execution_count": 29,
   "id": "dfebf010",
   "metadata": {},
   "outputs": [
    {
     "data": {
      "text/plain": [
       "[0, 1, 2, 3, 4, 5, 6, 7, 8, 9]"
      ]
     },
     "execution_count": 29,
     "metadata": {},
     "output_type": "execute_result"
    }
   ],
   "source": [
    "list(range(10))"
   ]
  },
  {
   "cell_type": "code",
   "execution_count": 30,
   "id": "4af5a8a3",
   "metadata": {},
   "outputs": [
    {
     "data": {
      "text/plain": [
       "[4, 5, 6, 7, 8, 9]"
      ]
     },
     "execution_count": 30,
     "metadata": {},
     "output_type": "execute_result"
    }
   ],
   "source": [
    "list(range(4,10))"
   ]
  },
  {
   "cell_type": "code",
   "execution_count": 31,
   "id": "291048bd",
   "metadata": {},
   "outputs": [
    {
     "data": {
      "text/plain": [
       "[2, 4, 6, 8, 10, 12]"
      ]
     },
     "execution_count": 31,
     "metadata": {},
     "output_type": "execute_result"
    }
   ],
   "source": [
    "list(range(2,14,2))"
   ]
  },
  {
   "cell_type": "code",
   "execution_count": 32,
   "id": "607c4411",
   "metadata": {},
   "outputs": [
    {
     "name": "stdout",
     "output_type": "stream",
     "text": [
      "0\n",
      "1\n",
      "2\n",
      "3\n",
      "4\n"
     ]
    }
   ],
   "source": [
    "for i in range(5):\n",
    "    print(i)"
   ]
  },
  {
   "cell_type": "code",
   "execution_count": 33,
   "id": "e1eb39a0",
   "metadata": {},
   "outputs": [
    {
     "name": "stdout",
     "output_type": "stream",
     "text": [
      "Tushar\n",
      "Tushar\n",
      "Tushar\n",
      "Tushar\n",
      "Tushar\n",
      "Tushar\n",
      "Tushar\n",
      "Tushar\n",
      "Tushar\n",
      "Tushar\n"
     ]
    }
   ],
   "source": [
    "for i in range(10):\n",
    "    print('Tushar')"
   ]
  },
  {
   "cell_type": "code",
   "execution_count": 34,
   "id": "2ba8afcb",
   "metadata": {},
   "outputs": [
    {
     "name": "stdout",
     "output_type": "stream",
     "text": [
      "55\n"
     ]
    }
   ],
   "source": [
    "add = 0\n",
    "for n in range(1,11):\n",
    "    add = add + n\n",
    "    \n",
    "print(add)"
   ]
  },
  {
   "cell_type": "code",
   "execution_count": 35,
   "id": "9e1081c5",
   "metadata": {},
   "outputs": [
    {
     "name": "stdout",
     "output_type": "stream",
     "text": [
      "100\n"
     ]
    }
   ],
   "source": [
    "add = 0\n",
    "for n in range(1,20,2):\n",
    "    add = add + n\n",
    "    \n",
    "print(add)"
   ]
  },
  {
   "cell_type": "markdown",
   "id": "6561c921",
   "metadata": {},
   "source": [
    "#### break"
   ]
  },
  {
   "cell_type": "code",
   "execution_count": 38,
   "id": "5872af9e",
   "metadata": {},
   "outputs": [
    {
     "name": "stdout",
     "output_type": "stream",
     "text": [
      "0\n",
      "1\n",
      "2\n",
      "3\n",
      "4\n"
     ]
    }
   ],
   "source": [
    "for i in range(10):\n",
    "    if i == 5:\n",
    "        break\n",
    "    print(i)"
   ]
  },
  {
   "cell_type": "code",
   "execution_count": 39,
   "id": "5927e191",
   "metadata": {},
   "outputs": [
    {
     "name": "stdout",
     "output_type": "stream",
     "text": [
      "0\n",
      "1\n",
      "2\n",
      "3\n",
      "4\n",
      "6\n",
      "7\n",
      "8\n",
      "9\n"
     ]
    }
   ],
   "source": [
    "for i in range(10):\n",
    "    if i == 5:\n",
    "        continue\n",
    "    print(i)"
   ]
  },
  {
   "cell_type": "markdown",
   "id": "d59ad217",
   "metadata": {},
   "source": [
    "#### List"
   ]
  },
  {
   "cell_type": "code",
   "execution_count": 41,
   "id": "2eeb05f7",
   "metadata": {},
   "outputs": [],
   "source": [
    "num = [56,33,12,75,37,89,22]"
   ]
  },
  {
   "cell_type": "code",
   "execution_count": 42,
   "id": "bcc49cd8",
   "metadata": {},
   "outputs": [
    {
     "data": {
      "text/plain": [
       "56"
      ]
     },
     "execution_count": 42,
     "metadata": {},
     "output_type": "execute_result"
    }
   ],
   "source": [
    "num[0]"
   ]
  },
  {
   "cell_type": "code",
   "execution_count": 43,
   "id": "34f9ea00",
   "metadata": {},
   "outputs": [
    {
     "data": {
      "text/plain": [
       "[48, 33, 12, 75, 37, 89, 22]"
      ]
     },
     "execution_count": 43,
     "metadata": {},
     "output_type": "execute_result"
    }
   ],
   "source": [
    "num[0] = 48\n",
    "num"
   ]
  },
  {
   "cell_type": "code",
   "execution_count": 44,
   "id": "1d8a49b3",
   "metadata": {},
   "outputs": [
    {
     "data": {
      "text/plain": [
       "list"
      ]
     },
     "execution_count": 44,
     "metadata": {},
     "output_type": "execute_result"
    }
   ],
   "source": [
    "type(num)"
   ]
  },
  {
   "cell_type": "code",
   "execution_count": 45,
   "id": "4152c5fe",
   "metadata": {},
   "outputs": [
    {
     "data": {
      "text/plain": [
       "22"
      ]
     },
     "execution_count": 45,
     "metadata": {},
     "output_type": "execute_result"
    }
   ],
   "source": [
    "num[-1]"
   ]
  },
  {
   "cell_type": "code",
   "execution_count": 47,
   "id": "10e36722",
   "metadata": {},
   "outputs": [
    {
     "data": {
      "text/plain": [
       "[75, 37, 89]"
      ]
     },
     "execution_count": 47,
     "metadata": {},
     "output_type": "execute_result"
    }
   ],
   "source": [
    "num[3:6]"
   ]
  },
  {
   "cell_type": "code",
   "execution_count": 48,
   "id": "b34144f8",
   "metadata": {},
   "outputs": [
    {
     "data": {
      "text/plain": [
       "[75, 37, 89, 22]"
      ]
     },
     "execution_count": 48,
     "metadata": {},
     "output_type": "execute_result"
    }
   ],
   "source": [
    "num[3:]"
   ]
  },
  {
   "cell_type": "code",
   "execution_count": 49,
   "id": "ca06b6a6",
   "metadata": {},
   "outputs": [
    {
     "data": {
      "text/plain": [
       "[48, 33, 12, 75, 37, 89]"
      ]
     },
     "execution_count": 49,
     "metadata": {},
     "output_type": "execute_result"
    }
   ],
   "source": [
    "num[:6]"
   ]
  },
  {
   "cell_type": "code",
   "execution_count": 50,
   "id": "bbb48445",
   "metadata": {},
   "outputs": [
    {
     "data": {
      "text/plain": [
       "True"
      ]
     },
     "execution_count": 50,
     "metadata": {},
     "output_type": "execute_result"
    }
   ],
   "source": [
    "12 in num"
   ]
  },
  {
   "cell_type": "code",
   "execution_count": 51,
   "id": "c66ecf47",
   "metadata": {},
   "outputs": [
    {
     "data": {
      "text/plain": [
       "False"
      ]
     },
     "execution_count": 51,
     "metadata": {},
     "output_type": "execute_result"
    }
   ],
   "source": [
    "37 not in num"
   ]
  },
  {
   "cell_type": "code",
   "execution_count": 52,
   "id": "ee517e13",
   "metadata": {},
   "outputs": [
    {
     "name": "stdout",
     "output_type": "stream",
     "text": [
      "33\n",
      "75\n",
      "37\n",
      "89\n"
     ]
    }
   ],
   "source": [
    "for i in num:\n",
    "    if i % 2 == 1:\n",
    "        print(i)"
   ]
  },
  {
   "cell_type": "code",
   "execution_count": 53,
   "id": "cf3bdc5c",
   "metadata": {},
   "outputs": [
    {
     "data": {
      "text/plain": [
       "['T', 'u', 's', 'h', 'a', 'r']"
      ]
     },
     "execution_count": 53,
     "metadata": {},
     "output_type": "execute_result"
    }
   ],
   "source": [
    "name = 'Tushar'\n",
    "list(name)"
   ]
  },
  {
   "cell_type": "code",
   "execution_count": 54,
   "id": "d0be832c",
   "metadata": {},
   "outputs": [
    {
     "data": {
      "text/plain": [
       "7"
      ]
     },
     "execution_count": 54,
     "metadata": {},
     "output_type": "execute_result"
    }
   ],
   "source": [
    "len(num)"
   ]
  },
  {
   "cell_type": "code",
   "execution_count": 55,
   "id": "f94aa880",
   "metadata": {},
   "outputs": [
    {
     "data": {
      "text/plain": [
       "89"
      ]
     },
     "execution_count": 55,
     "metadata": {},
     "output_type": "execute_result"
    }
   ],
   "source": [
    "max(num)"
   ]
  },
  {
   "cell_type": "code",
   "execution_count": 56,
   "id": "bf1b634e",
   "metadata": {},
   "outputs": [
    {
     "data": {
      "text/plain": [
       "12"
      ]
     },
     "execution_count": 56,
     "metadata": {},
     "output_type": "execute_result"
    }
   ],
   "source": [
    "min(num)"
   ]
  },
  {
   "cell_type": "code",
   "execution_count": 57,
   "id": "53d3ce5c",
   "metadata": {},
   "outputs": [
    {
     "data": {
      "text/plain": [
       "316"
      ]
     },
     "execution_count": 57,
     "metadata": {},
     "output_type": "execute_result"
    }
   ],
   "source": [
    "sum(num)"
   ]
  },
  {
   "cell_type": "code",
   "execution_count": 58,
   "id": "79d72b45",
   "metadata": {},
   "outputs": [],
   "source": [
    "x = []"
   ]
  },
  {
   "cell_type": "code",
   "execution_count": 59,
   "id": "73a9f589",
   "metadata": {},
   "outputs": [
    {
     "data": {
      "text/plain": [
       "[]"
      ]
     },
     "execution_count": 59,
     "metadata": {},
     "output_type": "execute_result"
    }
   ],
   "source": [
    "x"
   ]
  },
  {
   "cell_type": "code",
   "execution_count": 60,
   "id": "4ad7ba47",
   "metadata": {},
   "outputs": [
    {
     "data": {
      "text/plain": [
       "list"
      ]
     },
     "execution_count": 60,
     "metadata": {},
     "output_type": "execute_result"
    }
   ],
   "source": [
    "type(x)"
   ]
  },
  {
   "cell_type": "code",
   "execution_count": 61,
   "id": "598e6f5c",
   "metadata": {},
   "outputs": [
    {
     "data": {
      "text/plain": [
       "0"
      ]
     },
     "execution_count": 61,
     "metadata": {},
     "output_type": "execute_result"
    }
   ],
   "source": [
    "len(x)"
   ]
  },
  {
   "cell_type": "code",
   "execution_count": 62,
   "id": "6a702bb5",
   "metadata": {},
   "outputs": [
    {
     "data": {
      "text/plain": [
       "[48, 33, 12, 75, 37, 89, 22, 48, 33, 12, 75, 37, 89, 22]"
      ]
     },
     "execution_count": 62,
     "metadata": {},
     "output_type": "execute_result"
    }
   ],
   "source": [
    "num * 2"
   ]
  },
  {
   "cell_type": "code",
   "execution_count": 63,
   "id": "fe6bcbaf",
   "metadata": {},
   "outputs": [
    {
     "data": {
      "text/plain": [
       "[48, 33, 12, 75, 37, 89, 22, 28, 39]"
      ]
     },
     "execution_count": 63,
     "metadata": {},
     "output_type": "execute_result"
    }
   ],
   "source": [
    "num + [28,39]"
   ]
  },
  {
   "cell_type": "code",
   "execution_count": 64,
   "id": "92ed783c",
   "metadata": {},
   "outputs": [],
   "source": [
    "x += [12, 78]"
   ]
  },
  {
   "cell_type": "code",
   "execution_count": 65,
   "id": "7d4eda7b",
   "metadata": {},
   "outputs": [
    {
     "data": {
      "text/plain": [
       "[12, 78]"
      ]
     },
     "execution_count": 65,
     "metadata": {},
     "output_type": "execute_result"
    }
   ],
   "source": [
    "x"
   ]
  },
  {
   "cell_type": "code",
   "execution_count": 66,
   "id": "b6d19c12",
   "metadata": {},
   "outputs": [],
   "source": [
    "num.append(23)"
   ]
  },
  {
   "cell_type": "code",
   "execution_count": 67,
   "id": "ab425b9b",
   "metadata": {},
   "outputs": [
    {
     "data": {
      "text/plain": [
       "[48, 33, 12, 75, 37, 89, 22, 23]"
      ]
     },
     "execution_count": 67,
     "metadata": {},
     "output_type": "execute_result"
    }
   ],
   "source": [
    "num"
   ]
  },
  {
   "cell_type": "code",
   "execution_count": 68,
   "id": "fc17ef2e",
   "metadata": {},
   "outputs": [
    {
     "name": "stdout",
     "output_type": "stream",
     "text": [
      "Help on list object:\n",
      "\n",
      "class list(object)\n",
      " |  list(iterable=(), /)\n",
      " |  \n",
      " |  Built-in mutable sequence.\n",
      " |  \n",
      " |  If no argument is given, the constructor creates a new empty list.\n",
      " |  The argument must be an iterable if specified.\n",
      " |  \n",
      " |  Methods defined here:\n",
      " |  \n",
      " |  __add__(self, value, /)\n",
      " |      Return self+value.\n",
      " |  \n",
      " |  __contains__(self, key, /)\n",
      " |      Return key in self.\n",
      " |  \n",
      " |  __delitem__(self, key, /)\n",
      " |      Delete self[key].\n",
      " |  \n",
      " |  __eq__(self, value, /)\n",
      " |      Return self==value.\n",
      " |  \n",
      " |  __ge__(self, value, /)\n",
      " |      Return self>=value.\n",
      " |  \n",
      " |  __getattribute__(self, name, /)\n",
      " |      Return getattr(self, name).\n",
      " |  \n",
      " |  __getitem__(...)\n",
      " |      x.__getitem__(y) <==> x[y]\n",
      " |  \n",
      " |  __gt__(self, value, /)\n",
      " |      Return self>value.\n",
      " |  \n",
      " |  __iadd__(self, value, /)\n",
      " |      Implement self+=value.\n",
      " |  \n",
      " |  __imul__(self, value, /)\n",
      " |      Implement self*=value.\n",
      " |  \n",
      " |  __init__(self, /, *args, **kwargs)\n",
      " |      Initialize self.  See help(type(self)) for accurate signature.\n",
      " |  \n",
      " |  __iter__(self, /)\n",
      " |      Implement iter(self).\n",
      " |  \n",
      " |  __le__(self, value, /)\n",
      " |      Return self<=value.\n",
      " |  \n",
      " |  __len__(self, /)\n",
      " |      Return len(self).\n",
      " |  \n",
      " |  __lt__(self, value, /)\n",
      " |      Return self<value.\n",
      " |  \n",
      " |  __mul__(self, value, /)\n",
      " |      Return self*value.\n",
      " |  \n",
      " |  __ne__(self, value, /)\n",
      " |      Return self!=value.\n",
      " |  \n",
      " |  __repr__(self, /)\n",
      " |      Return repr(self).\n",
      " |  \n",
      " |  __reversed__(self, /)\n",
      " |      Return a reverse iterator over the list.\n",
      " |  \n",
      " |  __rmul__(self, value, /)\n",
      " |      Return value*self.\n",
      " |  \n",
      " |  __setitem__(self, key, value, /)\n",
      " |      Set self[key] to value.\n",
      " |  \n",
      " |  __sizeof__(self, /)\n",
      " |      Return the size of the list in memory, in bytes.\n",
      " |  \n",
      " |  append(self, object, /)\n",
      " |      Append object to the end of the list.\n",
      " |  \n",
      " |  clear(self, /)\n",
      " |      Remove all items from list.\n",
      " |  \n",
      " |  copy(self, /)\n",
      " |      Return a shallow copy of the list.\n",
      " |  \n",
      " |  count(self, value, /)\n",
      " |      Return number of occurrences of value.\n",
      " |  \n",
      " |  extend(self, iterable, /)\n",
      " |      Extend list by appending elements from the iterable.\n",
      " |  \n",
      " |  index(self, value, start=0, stop=9223372036854775807, /)\n",
      " |      Return first index of value.\n",
      " |      \n",
      " |      Raises ValueError if the value is not present.\n",
      " |  \n",
      " |  insert(self, index, object, /)\n",
      " |      Insert object before index.\n",
      " |  \n",
      " |  pop(self, index=-1, /)\n",
      " |      Remove and return item at index (default last).\n",
      " |      \n",
      " |      Raises IndexError if list is empty or index is out of range.\n",
      " |  \n",
      " |  remove(self, value, /)\n",
      " |      Remove first occurrence of value.\n",
      " |      \n",
      " |      Raises ValueError if the value is not present.\n",
      " |  \n",
      " |  reverse(self, /)\n",
      " |      Reverse *IN PLACE*.\n",
      " |  \n",
      " |  sort(self, /, *, key=None, reverse=False)\n",
      " |      Sort the list in ascending order and return None.\n",
      " |      \n",
      " |      The sort is in-place (i.e. the list itself is modified) and stable (i.e. the\n",
      " |      order of two equal elements is maintained).\n",
      " |      \n",
      " |      If a key function is given, apply it once to each list item and sort them,\n",
      " |      ascending or descending, according to their function values.\n",
      " |      \n",
      " |      The reverse flag can be set to sort in descending order.\n",
      " |  \n",
      " |  ----------------------------------------------------------------------\n",
      " |  Static methods defined here:\n",
      " |  \n",
      " |  __new__(*args, **kwargs) from builtins.type\n",
      " |      Create and return a new object.  See help(type) for accurate signature.\n",
      " |  \n",
      " |  ----------------------------------------------------------------------\n",
      " |  Data and other attributes defined here:\n",
      " |  \n",
      " |  __hash__ = None\n",
      "\n"
     ]
    }
   ],
   "source": [
    "help(num)"
   ]
  },
  {
   "cell_type": "code",
   "execution_count": 69,
   "id": "72c9628b",
   "metadata": {},
   "outputs": [],
   "source": [
    "num = 78, 34, 97,21, 53, 22"
   ]
  },
  {
   "cell_type": "code",
   "execution_count": 70,
   "id": "0b822513",
   "metadata": {},
   "outputs": [
    {
     "data": {
      "text/plain": [
       "(78, 34, 97, 21, 53, 22)"
      ]
     },
     "execution_count": 70,
     "metadata": {},
     "output_type": "execute_result"
    }
   ],
   "source": [
    "num"
   ]
  },
  {
   "cell_type": "code",
   "execution_count": 71,
   "id": "2b891d71",
   "metadata": {},
   "outputs": [
    {
     "data": {
      "text/plain": [
       "tuple"
      ]
     },
     "execution_count": 71,
     "metadata": {},
     "output_type": "execute_result"
    }
   ],
   "source": [
    "type(num)"
   ]
  },
  {
   "cell_type": "code",
   "execution_count": 73,
   "id": "d083bff5",
   "metadata": {},
   "outputs": [
    {
     "ename": "TypeError",
     "evalue": "'tuple' object does not support item assignment",
     "output_type": "error",
     "traceback": [
      "\u001b[0;31m---------------------------------------------------------------------------\u001b[0m",
      "\u001b[0;31mTypeError\u001b[0m                                 Traceback (most recent call last)",
      "\u001b[0;32m<ipython-input-73-ae7200c55841>\u001b[0m in \u001b[0;36m<module>\u001b[0;34m\u001b[0m\n\u001b[0;32m----> 1\u001b[0;31m \u001b[0mnum\u001b[0m\u001b[0;34m[\u001b[0m\u001b[0;36m3\u001b[0m\u001b[0;34m]\u001b[0m \u001b[0;34m=\u001b[0m \u001b[0;36m22\u001b[0m\u001b[0;34m\u001b[0m\u001b[0;34m\u001b[0m\u001b[0m\n\u001b[0m",
      "\u001b[0;31mTypeError\u001b[0m: 'tuple' object does not support item assignment"
     ]
    }
   ],
   "source": [
    "num[3] = 22"
   ]
  },
  {
   "cell_type": "markdown",
   "id": "af855806",
   "metadata": {},
   "source": [
    "#### Set"
   ]
  },
  {
   "cell_type": "code",
   "execution_count": 75,
   "id": "f95a6889",
   "metadata": {},
   "outputs": [],
   "source": [
    "s = {5,6,5,5,3,2,3,4,6,2,8,5,3}"
   ]
  },
  {
   "cell_type": "code",
   "execution_count": 76,
   "id": "e651564f",
   "metadata": {},
   "outputs": [
    {
     "data": {
      "text/plain": [
       "{2, 3, 4, 5, 6, 8}"
      ]
     },
     "execution_count": 76,
     "metadata": {},
     "output_type": "execute_result"
    }
   ],
   "source": [
    "s"
   ]
  },
  {
   "cell_type": "markdown",
   "id": "63c0f900",
   "metadata": {},
   "source": [
    "#### Dict"
   ]
  },
  {
   "cell_type": "code",
   "execution_count": 78,
   "id": "9dc590d1",
   "metadata": {},
   "outputs": [],
   "source": [
    "d = {4:25, 5:627, 8:25, 9:22}"
   ]
  },
  {
   "cell_type": "code",
   "execution_count": 79,
   "id": "7c181a58",
   "metadata": {},
   "outputs": [
    {
     "data": {
      "text/plain": [
       "{4: 25, 5: 627, 8: 25, 9: 22}"
      ]
     },
     "execution_count": 79,
     "metadata": {},
     "output_type": "execute_result"
    }
   ],
   "source": [
    "d"
   ]
  },
  {
   "cell_type": "code",
   "execution_count": 80,
   "id": "5a644b29",
   "metadata": {},
   "outputs": [
    {
     "data": {
      "text/plain": [
       "627"
      ]
     },
     "execution_count": 80,
     "metadata": {},
     "output_type": "execute_result"
    }
   ],
   "source": [
    "d[5]"
   ]
  },
  {
   "cell_type": "code",
   "execution_count": null,
   "id": "fa64c386",
   "metadata": {},
   "outputs": [],
   "source": []
  }
 ],
 "metadata": {
  "kernelspec": {
   "display_name": "Python 3",
   "language": "python",
   "name": "python3"
  },
  "language_info": {
   "codemirror_mode": {
    "name": "ipython",
    "version": 3
   },
   "file_extension": ".py",
   "mimetype": "text/x-python",
   "name": "python",
   "nbconvert_exporter": "python",
   "pygments_lexer": "ipython3",
   "version": "3.8.10"
  }
 },
 "nbformat": 4,
 "nbformat_minor": 5
}
